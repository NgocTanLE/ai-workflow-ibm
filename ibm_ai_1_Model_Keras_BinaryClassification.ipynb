{
  "nbformat": 4,
  "nbformat_minor": 0,
  "metadata": {
    "colab": {
      "name": "ibm_ai_1_Model_Keras_BinaryClassification.ipynb",
      "provenance": [],
      "collapsed_sections": [],
      "machine_shape": "hm"
    },
    "kernelspec": {
      "name": "python3",
      "display_name": "Python 3"
    }
  },
  "cells": [
    {
      "cell_type": "markdown",
      "metadata": {
        "id": "vxYQsf2xk9i3",
        "colab_type": "text"
      },
      "source": [
        "@Ngoc Tan Le\n",
        "\n",
        "---\n",
        "\n",
        "Dimanche 05 Janvier 2019\n",
        "# **Classifying movie reviews: a binary classification example**\n",
        "Two-class classification, or binary classification, may be the most widely applied kind of machine-learning problem. In this example, you’ll learn to classify movie reviews as positive or negative, based on the text content of the reviews.\n",
        "\n",
        "*IMDB dataset*: a set of 50,000 highly polarized reviews from the Internet Movie Database. They’re split into 25,000 reviews for training and 25,000 reviews for testing, each set consisting of 50% negative and 50% positive reviews."
      ]
    },
    {
      "cell_type": "code",
      "metadata": {
        "id": "2FA_VYNigZ1g",
        "colab_type": "code",
        "colab": {}
      },
      "source": [
        "# coding: utf-8"
      ],
      "execution_count": 0,
      "outputs": []
    },
    {
      "cell_type": "code",
      "metadata": {
        "id": "G6ycPMU10ogx",
        "colab_type": "code",
        "colab": {}
      },
      "source": [
        "import time\n",
        "import logging\n",
        "from functools import wraps\n",
        "import warnings\n",
        "\n",
        "import numpy as np\n",
        "import pandas as pd\n",
        "import matplotlib.pyplot as plt\n",
        "\n",
        "from sklearn.datasets import fetch_openml\n",
        "from sklearn.preprocessing import MinMaxScaler\n",
        "from sklearn.metrics import confusion_matrix, classification_report\n",
        "from sklearn.linear_model import LogisticRegression\n",
        "from sklearn.neural_network import MLPClassifier\n",
        "\n",
        "%matplotlib inline\n",
        "warnings.filterwarnings(\"ignore\")\n",
        "\n",
        "COL_NAME_METHOD_NAME = \"Testcase\"\n",
        "COL_NAME_ACCURACY = \"Accuracy\"\n",
        "COL_NAME_DURATION = \"Duration\"\n",
        "COL_NAMES = [COL_NAME_METHOD_NAME, COL_NAME_ACCURACY]"
      ],
      "execution_count": 0,
      "outputs": []
    },
    {
      "cell_type": "code",
      "metadata": {
        "id": "G8qmfM4404am",
        "colab_type": "code",
        "colab": {}
      },
      "source": [
        "# class decorator_class\n",
        "class decorator_class(object):\n",
        "\n",
        "    def __init__(self, original_function):\n",
        "        self.original_function = original_function\n",
        "\n",
        "    def __call__(self, *args, **kwargs):\n",
        "        print('call method before {}'.format(self.original_function.__name__))\n",
        "        self.original_function(*args, **kwargs)\n",
        "\n",
        "\n",
        "def logger(original_func):\n",
        "    logging.basicConfig(filename='{}.log'.format(original_func.__name__),\n",
        "                        level=logging.INFO)\n",
        "\n",
        "    @wraps(original_func)\n",
        "    def wrapper(*args, **kwargs):\n",
        "        logging.info('Ran with args: {}, and kwargs: {}'.format(args, kwargs))\n",
        "        return original_func(*args, **kwargs)\n",
        "    return wrapper\n",
        "\n",
        "\n",
        "def cls_timer(original_func):\n",
        "    @wraps(original_func)\n",
        "    def wrapper(*args, **kwargs):\n",
        "        t1 = time.time()\n",
        "        result = original_func(*args, **kwargs)\n",
        "        t2 = time.time() - t1\n",
        "        print('{} ran in: {} sec'.format(original_func.__name__, round(t2,2)))\n",
        "        return result\n",
        "    return wrapper\n",
        "\n",
        "# class Normalize\n",
        "class Normalize(object):\n",
        "    def normalize(self, X_train, X_test):\n",
        "        self.scaler = MinMaxScaler()\n",
        "        X_train = self.scaler.fit_transform(X_train)\n",
        "        X_test  = self.scaler.transform(X_test)\n",
        "        return (X_train, X_test)\n",
        "\n",
        "    def inverse(self, X_train, X_test):\n",
        "        X_train = self.scaler.inverse_transform(X_train)\n",
        "        X_test  = self.scaler.inverse_transform(X_test)\n",
        "        return (X_train, X_test)"
      ],
      "execution_count": 0,
      "outputs": []
    },
    {
      "cell_type": "code",
      "metadata": {
        "id": "EdDcqb8Jggn2",
        "colab_type": "code",
        "outputId": "d87988d0-a8ad-4f86-c7bd-8fbcb4b751da",
        "colab": {
          "base_uri": "https://localhost:8080/",
          "height": 97
        }
      },
      "source": [
        "# Deep learning Librairies\n",
        "from keras import layers\n",
        "from keras import models\n",
        "from keras import optimizers"
      ],
      "execution_count": 7,
      "outputs": [
        {
          "output_type": "stream",
          "text": [
            "Using TensorFlow backend.\n"
          ],
          "name": "stderr"
        },
        {
          "output_type": "display_data",
          "data": {
            "text/html": [
              "<p style=\"color: red;\">\n",
              "The default version of TensorFlow in Colab will soon switch to TensorFlow 2.x.<br>\n",
              "We recommend you <a href=\"https://www.tensorflow.org/guide/migrate\" target=\"_blank\">upgrade</a> now \n",
              "or ensure your notebook will continue to use TensorFlow 1.x via the <code>%tensorflow_version 1.x</code> magic:\n",
              "<a href=\"https://colab.research.google.com/notebooks/tensorflow_version.ipynb\" target=\"_blank\">more info</a>.</p>\n"
            ],
            "text/plain": [
              "<IPython.core.display.HTML object>"
            ]
          },
          "metadata": {
            "tags": []
          }
        }
      ]
    },
    {
      "cell_type": "markdown",
      "metadata": {
        "id": "GaC1mXro1VxS",
        "colab_type": "text"
      },
      "source": [
        "## Utils"
      ]
    },
    {
      "cell_type": "code",
      "metadata": {
        "id": "gfVSRewwkx39",
        "colab_type": "code",
        "colab": {}
      },
      "source": [
        "# Class algo_logistic_regression for Machine Learning\n",
        "class algo_logistic_regression(object):\n",
        "\n",
        "    @logger\n",
        "    @cls_timer\n",
        "    def __init__(self, X_train, y_train, X_test, y_test):\n",
        "        self.X_train, self.y_train, self.X_test, self.y_test = X_train, y_train, X_test, y_test\n",
        "\n",
        "    @logger\n",
        "    @cls_timer\n",
        "    def fit(self):\n",
        "        normalizer = Normalize()\n",
        "        self.X_train, self.X_test = normalizer.normalize(self.X_train, self.X_test)\n",
        "        train_samples = self.X_train.shape[0]\n",
        "        self.classifier = LogisticRegression(\n",
        "            C=50. / train_samples,\n",
        "            multi_class='multinomial',\n",
        "            penalty='l1',\n",
        "            solver='saga',\n",
        "            tol=0.1,\n",
        "            class_weight='balanced')\n",
        "        self.classifier.fit(self.X_train, self.y_train)\n",
        "        self.train_y_predicted = self.classifier.predict(self.X_train)\n",
        "        self.train_accuracy = round(np.mean(self.train_y_predicted.ravel() == self.y_train.ravel()) * 100, 2)\n",
        "        self.train_confusion_matrix = confusion_matrix(self.y_train, self.train_y_predicted)\n",
        "\n",
        "        return self.train_accuracy\n",
        "\n",
        "    @logger\n",
        "    @cls_timer\n",
        "    def predict(self):\n",
        "        self.test_y_predicted = self.classifier.predict(self.X_test)\n",
        "        self.test_accuracy = round(np.mean(self.test_y_predicted.ravel() == self.y_test.ravel()) * 100, 2)\n",
        "        self.test_confusion_matrix = confusion_matrix(self.y_test, self.test_y_predicted)\n",
        "        self.report = classification_report(self.y_test, self.test_y_predicted)\n",
        "        print(\"Classification report for classifier Logistic Regression:\\n %s\\n\" % (self.report))\n",
        "        return self.test_accuracy\n",
        "\n",
        "    @logger\n",
        "    @cls_timer\n",
        "    def predict_dummy(self):\n",
        "        \"\"\"Dummy prediction with baseline obtained result between [0,9]\n",
        "        \"\"\"\n",
        "        #self.test_y_predicted_baseline = np.array([str(x) for x in np.random.randint(10, size=len(self.X_test))])\n",
        "        self.test_y_predicted_baseline = np.array([x for x in np.random.randint(10, size=len(self.X_test))])\n",
        "        self.test_accuracy_baseline = round(np.mean(self.test_y_predicted_baseline.ravel() == self.y_test.ravel() * 100), 2)\n",
        "        self.test_confusion_matrix_baseline = confusion_matrix(self.y_test, self.test_y_predicted_baseline)\n",
        "        self.report_baseline = classification_report(self.y_test, self.test_y_predicted_baseline)\n",
        "        print(\"Classification report for classifier - Baseline:\\n %s\\n\" % (self.report_baseline))\n",
        "        return self.test_accuracy_baseline\n"
      ],
      "execution_count": 0,
      "outputs": []
    },
    {
      "cell_type": "code",
      "metadata": {
        "id": "50IyeWGA1oJr",
        "colab_type": "code",
        "colab": {}
      },
      "source": [
        "# Class algo_multilayer_perceptron for Machine Learning\n",
        "class algo_multilayer_perceptron(object):\n",
        "\n",
        "    @logger\n",
        "    @cls_timer\n",
        "    def __init__(self, X_train, y_train, X_test, y_test):\n",
        "        self.X_train, self.y_train, self.X_test, self.y_test = X_train, y_train, X_test, y_test\n",
        "\n",
        "    @logger\n",
        "    @cls_timer\n",
        "    def fit(self):\n",
        "        normalizer = Normalize()\n",
        "        self.X_train, self.X_test = normalizer.normalize(self.X_train, self.X_test)\n",
        "        train_samples = self.X_train.shape[0]\n",
        "        self.classifier = MLPClassifier(hidden_layer_sizes=(50,), max_iter=10, alpha=1e-4,\n",
        "                                        solver='sgd', verbose=10, random_state=1,\n",
        "                                        learning_rate_init=.1)\n",
        "        self.classifier.fit(self.X_train, self.y_train)\n",
        "        self.train_y_predicted = self.classifier.predict(self.X_train)\n",
        "        self.train_accuracy = round(np.mean(self.train_y_predicted.ravel() == self.y_train.ravel()) * 100, 2)\n",
        "        self.train_confusion_matrix = confusion_matrix(self.y_train, self.train_y_predicted)\n",
        "        return self.train_accuracy\n",
        "\n",
        "    @logger\n",
        "    @cls_timer\n",
        "    def predict(self):\n",
        "        self.test_y_predicted = self.classifier.predict(self.X_test)\n",
        "        self.test_accuracy = round(np.mean(self.test_y_predicted.ravel() == self.y_test.ravel()) * 100, 2)\n",
        "        self.test_confusion_matrix = confusion_matrix(self.y_test, self.test_y_predicted)\n",
        "        self.report = classification_report(self.y_test, self.test_y_predicted)\n",
        "        print(\"Classification report for classifier Logistic Regression:\\n %s\\n\" % (self.report))\n",
        "        return self.test_accuracy\n",
        "\n",
        "    @logger\n",
        "    @cls_timer\n",
        "    def predict_dummy(self):\n",
        "        \"\"\"Dummy prediction with baseline obtained result between [0,9]\n",
        "        \"\"\"\n",
        "        #self.test_y_predicted_baseline = np.array([str(x) for x in np.random.randint(10, size=len(self.X_test))])\n",
        "        self.test_y_predicted_baseline = np.array([x for x in np.random.randint(10, size=len(self.X_test))])\n",
        "        self.test_accuracy_baseline = round(np.mean(self.test_y_predicted_baseline.ravel() == self.y_test.ravel() * 100), 2)\n",
        "        self.test_confusion_matrix_baseline = confusion_matrix(self.y_test, self.test_y_predicted_baseline)\n",
        "        self.report_baseline = classification_report(self.y_test, self.test_y_predicted_baseline)\n",
        "        print(\"Classification report for classifier - Baseline:\\n %s\\n\" % (self.report_baseline))\n",
        "        return self.test_accuracy_baseline"
      ],
      "execution_count": 0,
      "outputs": []
    },
    {
      "cell_type": "markdown",
      "metadata": {
        "id": "VqkokyJql0dT",
        "colab_type": "text"
      },
      "source": [
        "#1. Loading the IMDB dataset"
      ]
    },
    {
      "cell_type": "code",
      "metadata": {
        "id": "zZyhjjmal4Ge",
        "colab_type": "code",
        "colab": {}
      },
      "source": [
        "from keras.datasets import imdb"
      ],
      "execution_count": 0,
      "outputs": []
    },
    {
      "cell_type": "code",
      "metadata": {
        "id": "pbNH1ZC-nCTL",
        "colab_type": "code",
        "outputId": "48786098-e361-412c-aa6f-d9b8c669e1a7",
        "colab": {
          "base_uri": "https://localhost:8080/",
          "height": 51
        }
      },
      "source": [
        "# split train, test\n",
        "(train_data, train_labels), (test_data, test_labels) = imdb.load_data(num_words=10000) # 10k top most frequent words"
      ],
      "execution_count": 11,
      "outputs": [
        {
          "output_type": "stream",
          "text": [
            "Downloading data from https://s3.amazonaws.com/text-datasets/imdb.npz\n",
            "17465344/17464789 [==============================] - 2s 0us/step\n"
          ],
          "name": "stdout"
        }
      ]
    },
    {
      "cell_type": "code",
      "metadata": {
        "id": "g6r-KhhWnCV9",
        "colab_type": "code",
        "outputId": "4a3d2e3b-8b01-4926-d8b4-735aa6b2d236",
        "colab": {
          "base_uri": "https://localhost:8080/",
          "height": 34
        }
      },
      "source": [
        "len(train_data), len(test_data)"
      ],
      "execution_count": 12,
      "outputs": [
        {
          "output_type": "execute_result",
          "data": {
            "text/plain": [
              "(25000, 25000)"
            ]
          },
          "metadata": {
            "tags": []
          },
          "execution_count": 12
        }
      ]
    },
    {
      "cell_type": "code",
      "metadata": {
        "id": "CNSoOPJKnCZA",
        "colab_type": "code",
        "outputId": "60ccbee3-a078-4dab-8128-ed6c8376c0fb",
        "colab": {
          "base_uri": "https://localhost:8080/",
          "height": 71
        }
      },
      "source": [
        "print(train_data[0]) \n",
        "print(train_labels[0])"
      ],
      "execution_count": 13,
      "outputs": [
        {
          "output_type": "stream",
          "text": [
            "[1, 14, 22, 16, 43, 530, 973, 1622, 1385, 65, 458, 4468, 66, 3941, 4, 173, 36, 256, 5, 25, 100, 43, 838, 112, 50, 670, 2, 9, 35, 480, 284, 5, 150, 4, 172, 112, 167, 2, 336, 385, 39, 4, 172, 4536, 1111, 17, 546, 38, 13, 447, 4, 192, 50, 16, 6, 147, 2025, 19, 14, 22, 4, 1920, 4613, 469, 4, 22, 71, 87, 12, 16, 43, 530, 38, 76, 15, 13, 1247, 4, 22, 17, 515, 17, 12, 16, 626, 18, 2, 5, 62, 386, 12, 8, 316, 8, 106, 5, 4, 2223, 5244, 16, 480, 66, 3785, 33, 4, 130, 12, 16, 38, 619, 5, 25, 124, 51, 36, 135, 48, 25, 1415, 33, 6, 22, 12, 215, 28, 77, 52, 5, 14, 407, 16, 82, 2, 8, 4, 107, 117, 5952, 15, 256, 4, 2, 7, 3766, 5, 723, 36, 71, 43, 530, 476, 26, 400, 317, 46, 7, 4, 2, 1029, 13, 104, 88, 4, 381, 15, 297, 98, 32, 2071, 56, 26, 141, 6, 194, 7486, 18, 4, 226, 22, 21, 134, 476, 26, 480, 5, 144, 30, 5535, 18, 51, 36, 28, 224, 92, 25, 104, 4, 226, 65, 16, 38, 1334, 88, 12, 16, 283, 5, 16, 4472, 113, 103, 32, 15, 16, 5345, 19, 178, 32]\n",
            "1\n"
          ],
          "name": "stdout"
        }
      ]
    },
    {
      "cell_type": "code",
      "metadata": {
        "id": "H1hIRmAgnCj0",
        "colab_type": "code",
        "outputId": "a8c246aa-2b73-4ca5-d6cd-76a5944eda8c",
        "colab": {
          "base_uri": "https://localhost:8080/",
          "height": 51
        }
      },
      "source": [
        "# word_index is a dictionary mapping words to an integer index\n",
        "word_index = imdb.get_word_index()\n"
      ],
      "execution_count": 14,
      "outputs": [
        {
          "output_type": "stream",
          "text": [
            "Downloading data from https://s3.amazonaws.com/text-datasets/imdb_word_index.json\n",
            "1646592/1641221 [==============================] - 1s 1us/step\n"
          ],
          "name": "stdout"
        }
      ]
    },
    {
      "cell_type": "code",
      "metadata": {
        "id": "43TbtzoLoU7j",
        "colab_type": "code",
        "colab": {}
      },
      "source": [
        "reserve_word_index = dict([(val, key) for (key, val) in word_index.items()])\n"
      ],
      "execution_count": 0,
      "outputs": []
    },
    {
      "cell_type": "markdown",
      "metadata": {
        "id": "-32SuLcMpoCf",
        "colab_type": "text"
      },
      "source": [
        "Decodes the review. Note that the indices are offset by 3 because 0, 1, and 2 are reserved indices for “padding,” “start of sequence,” and “unknown.”"
      ]
    },
    {
      "cell_type": "code",
      "metadata": {
        "id": "Vb8-I2lDoU_I",
        "colab_type": "code",
        "outputId": "bb8ea8af-e96f-4937-fca3-b425ee1aaa30",
        "colab": {
          "base_uri": "https://localhost:8080/",
          "height": 54
        }
      },
      "source": [
        "decoded_review = ' '.join([reserve_word_index.get(i-3, '?') for i in train_data[0]])\n",
        "decoded_review"
      ],
      "execution_count": 16,
      "outputs": [
        {
          "output_type": "execute_result",
          "data": {
            "text/plain": [
              "\"? this film was just brilliant casting location scenery story direction everyone's really suited the part they played and you could just imagine being there robert ? is an amazing actor and now the same being director ? father came from the same scottish island as myself so i loved the fact there was a real connection with this film the witty remarks throughout the film were great it was just brilliant so much that i bought the film as soon as it was released for ? and would recommend it to everyone to watch and the fly fishing was amazing really cried at the end it was so sad and you know what they say if you cry at a film it must have been good and this definitely was also ? to the two little boy's that played the ? of norman and paul they were just brilliant children are often left out of the ? list i think because the stars that play them all grown up are such a big profile for the whole film but these children are amazing and should be praised for what they have done don't you think the whole story was so lovely because it was true and was someone's life after all that was shared with us all\""
            ]
          },
          "metadata": {
            "tags": []
          },
          "execution_count": 16
        }
      ]
    },
    {
      "cell_type": "markdown",
      "metadata": {
        "id": "UfdE2k2ep2nz",
        "colab_type": "text"
      },
      "source": [
        "#2. Preparing the data"
      ]
    },
    {
      "cell_type": "code",
      "metadata": {
        "id": "QyIko6UkoVEK",
        "colab_type": "code",
        "colab": {}
      },
      "source": [
        "import numpy as np"
      ],
      "execution_count": 0,
      "outputs": []
    },
    {
      "cell_type": "code",
      "metadata": {
        "id": "5le3qDd1oVH_",
        "colab_type": "code",
        "colab": {}
      },
      "source": [
        "# function to vectorize a sequence\n",
        "def vectorize_sequences(sequences, dimension=10000):\n",
        "  results = np.zeros((len(sequences), dimension)) # all-zero matrix of shape (x,y)\n",
        "\n",
        "  for i, seq in enumerate(sequences):\n",
        "    results[i, seq] = 1. \n",
        "  \n",
        "  return results"
      ],
      "execution_count": 0,
      "outputs": []
    },
    {
      "cell_type": "code",
      "metadata": {
        "id": "Cxs-i6eEoVLE",
        "colab_type": "code",
        "colab": {}
      },
      "source": [
        "# vectorize trainset, testset\n",
        "x_train = vectorize_sequences(train_data)\n",
        "x_test = vectorize_sequences(test_data)"
      ],
      "execution_count": 0,
      "outputs": []
    },
    {
      "cell_type": "code",
      "metadata": {
        "id": "52dmDsfvoVQW",
        "colab_type": "code",
        "outputId": "dd0fb473-4704-4ef9-fd92-a9799d048dee",
        "colab": {
          "base_uri": "https://localhost:8080/",
          "height": 51
        }
      },
      "source": [
        "x_train[:2]"
      ],
      "execution_count": 20,
      "outputs": [
        {
          "output_type": "execute_result",
          "data": {
            "text/plain": [
              "array([[0., 1., 1., ..., 0., 0., 0.],\n",
              "       [0., 1., 1., ..., 0., 0., 0.]])"
            ]
          },
          "metadata": {
            "tags": []
          },
          "execution_count": 20
        }
      ]
    },
    {
      "cell_type": "code",
      "metadata": {
        "id": "burRPeNJoVTh",
        "colab_type": "code",
        "colab": {}
      },
      "source": [
        "# vectorize the labels\n",
        "y_train = np.asarray(train_labels).astype('float32')\n",
        "y_test = np.asarray(test_labels).astype('float32')"
      ],
      "execution_count": 0,
      "outputs": []
    },
    {
      "cell_type": "code",
      "metadata": {
        "id": "aYx8qx2FoVOd",
        "colab_type": "code",
        "outputId": "7fdf7b42-1ff1-44c7-ed42-06b5d49f50fe",
        "colab": {
          "base_uri": "https://localhost:8080/",
          "height": 34
        }
      },
      "source": [
        "y_train[:2]"
      ],
      "execution_count": 22,
      "outputs": [
        {
          "output_type": "execute_result",
          "data": {
            "text/plain": [
              "array([1., 0.], dtype=float32)"
            ]
          },
          "metadata": {
            "tags": []
          },
          "execution_count": 22
        }
      ]
    },
    {
      "cell_type": "markdown",
      "metadata": {
        "id": "sbl_yxvzywJC",
        "colab_type": "text"
      },
      "source": [
        "# Baseline Model with Machine Learning with sklearn"
      ]
    },
    {
      "cell_type": "code",
      "metadata": {
        "id": "VYFuxtcd2MhF",
        "colab_type": "code",
        "colab": {}
      },
      "source": [
        "results = [] # variable to stock (method_ML, accuracy)"
      ],
      "execution_count": 0,
      "outputs": []
    },
    {
      "cell_type": "markdown",
      "metadata": {
        "id": "8bmo7qks0XRM",
        "colab_type": "text"
      },
      "source": [
        "## 1. Logistic Regression"
      ]
    },
    {
      "cell_type": "code",
      "metadata": {
        "id": "Lzfae4_9zKdF",
        "colab_type": "code",
        "outputId": "6efefaee-99bd-4bb6-8c34-eba5eb47130c",
        "colab": {
          "base_uri": "https://localhost:8080/",
          "height": 51
        }
      },
      "source": [
        "t0 = time.time()\n",
        "np.random.seed(42)\n",
        "clf_logReg = algo_logistic_regression(x_train, y_train, x_test, y_test)\n",
        "train_acc = clf_logReg.fit()"
      ],
      "execution_count": 24,
      "outputs": [
        {
          "output_type": "stream",
          "text": [
            "__init__ ran in: 0.0 sec\n",
            "fit ran in: 25.8 sec\n"
          ],
          "name": "stdout"
        }
      ]
    },
    {
      "cell_type": "code",
      "metadata": {
        "id": "2V1RHLB9zKRe",
        "colab_type": "code",
        "outputId": "99d00364-dba9-48d6-ec82-e983499cb8a2",
        "colab": {
          "base_uri": "https://localhost:8080/",
          "height": 85
        }
      },
      "source": [
        "# Train accuracy\n",
        "print(\"Train accuracy - baseline: \", train_acc)\n",
        "print(\"Confusion Matrix \\n\", clf_logReg.train_confusion_matrix)"
      ],
      "execution_count": 25,
      "outputs": [
        {
          "output_type": "stream",
          "text": [
            "Train accuracy - baseline:  68.31\n",
            "Confusion Matrix \n",
            " [[7146 5354]\n",
            " [2568 9932]]\n"
          ],
          "name": "stdout"
        }
      ]
    },
    {
      "cell_type": "code",
      "metadata": {
        "id": "QZspmkQinRMK",
        "colab_type": "code",
        "colab": {}
      },
      "source": [
        "# Add to list results\n",
        "method_name = \"Train - Logistic Regression\"\n",
        "results.append((method_name, train_acc))"
      ],
      "execution_count": 0,
      "outputs": []
    },
    {
      "cell_type": "code",
      "metadata": {
        "id": "US6teqDuzKaa",
        "colab_type": "code",
        "outputId": "8722b0e6-7ee2-4eba-8512-63f8297a2c56",
        "colab": {
          "base_uri": "https://localhost:8080/",
          "height": 289
        }
      },
      "source": [
        "# Test accuracy\n",
        "test_acc_baseline = clf_logReg.predict()\n",
        "print(\"Test accuracy - baseline: \", test_acc_baseline)\n",
        "print(\"Confusion Matrix \\n\", clf_logReg.test_confusion_matrix)"
      ],
      "execution_count": 26,
      "outputs": [
        {
          "output_type": "stream",
          "text": [
            "Classification report for classifier Logistic Regression:\n",
            "               precision    recall  f1-score   support\n",
            "\n",
            "         0.0       0.74      0.57      0.64     12500\n",
            "         1.0       0.65      0.80      0.72     12500\n",
            "\n",
            "    accuracy                           0.68     25000\n",
            "   macro avg       0.69      0.68      0.68     25000\n",
            "weighted avg       0.69      0.68      0.68     25000\n",
            "\n",
            "\n",
            "predict ran in: 0.41 sec\n",
            "Test accuracy - baseline:  68.44\n",
            "Confusion Matrix \n",
            " [[ 7111  5389]\n",
            " [ 2500 10000]]\n"
          ],
          "name": "stdout"
        }
      ]
    },
    {
      "cell_type": "code",
      "metadata": {
        "id": "1OVw6SHinOnE",
        "colab_type": "code",
        "colab": {}
      },
      "source": [
        "# Add to list results\n",
        "method_name = \"Test Logistic Regression\"\n",
        "results.append((method_name, test_acc_baseline))"
      ],
      "execution_count": 0,
      "outputs": []
    },
    {
      "cell_type": "code",
      "metadata": {
        "id": "9nffEiDXzKXm",
        "colab_type": "code",
        "outputId": "82310fad-a96e-4b8a-a1b3-882ad4a8f371",
        "colab": {
          "base_uri": "https://localhost:8080/",
          "height": 34
        }
      },
      "source": [
        "results"
      ],
      "execution_count": 59,
      "outputs": [
        {
          "output_type": "execute_result",
          "data": {
            "text/plain": [
              "[('Train - Logistic Regression', 68.31), ('Test Logistic Regression', 68.44)]"
            ]
          },
          "metadata": {
            "tags": []
          },
          "execution_count": 59
        }
      ]
    },
    {
      "cell_type": "code",
      "metadata": {
        "id": "fOhiu8I7zKNw",
        "colab_type": "code",
        "outputId": "2ba35cbe-bb4d-483d-b584-ee9b98817438",
        "colab": {
          "base_uri": "https://localhost:8080/",
          "height": 238
        }
      },
      "source": [
        "# Sparsity with L1 penalty\n",
        "sparsity = np.mean(clf_logReg.classifier.coef_ ==0)*100\n",
        "print(\"Sparsity with L1 penalty: %.2f%%\" % sparsity)\n",
        "\n",
        "coef = clf_logReg.classifier.coef_.copy()\n",
        "plt.figure(figsize=(10,5))\n",
        "scale = np.abs(coef).max()\n",
        "\n",
        "for i in range(2):\n",
        "  l1_plot = plt.subplot(2, 5, i+1)\n",
        "  # l1_plot.imshow(coef[i].reshape(),      # error\n",
        "  #                interpolation='nearest', \n",
        "  #                cmap=plt.cm.RdBu,\n",
        "  #                vmin=-scale, vmax=scale)\n",
        "  l1_plot.set_xticks(())\n",
        "  l1_plot.set_yticks(())\n",
        "  l1_plot.set_xlabel('Class %i' % i)\n",
        "\n",
        "plt.suptitle(\"Classification vector for LR\")\n",
        "\n",
        "run_time = time.time() - t0\n",
        "print(\"Example run in %.3f sec\" % run_time)\n",
        "plt.show()\n"
      ],
      "execution_count": 28,
      "outputs": [
        {
          "output_type": "stream",
          "text": [
            "Sparsity with L1 penalty: 96.98%\n",
            "Example run in 26.303 sec\n"
          ],
          "name": "stdout"
        },
        {
          "output_type": "display_data",
          "data": {
            "image/png": "[encoded data removed]",
            "text/plain": [
              "<Figure size 720x360 with 2 Axes>"
            ]
          },
          "metadata": {
            "tags": []
          }
        }
      ]
    },
    {
      "cell_type": "markdown",
      "metadata": {
        "id": "WefWEvHDj0z3",
        "colab_type": "text"
      },
      "source": [
        "## 2. MLP - MultiLayer Perceptron"
      ]
    },
    {
      "cell_type": "code",
      "metadata": {
        "id": "_PMieJLD99kR",
        "colab_type": "code",
        "colab": {
          "base_uri": "https://localhost:8080/",
          "height": 289
        },
        "outputId": "8c462628-cd00-4268-c101-701707219e65"
      },
      "source": [
        "t0 = time.time()\n",
        "np.random.seed(42)\n",
        "clf_MLP = algo_multilayer_perceptron(x_train, y_train, x_test, y_test)\n",
        "train_acc_MLP = clf_MLP.fit()\n",
        "\n",
        "# Train accuracy\n",
        "print(\"Train accuracy - baseline: \", train_acc_MLP)\n",
        "print(\"Confusion Matrix \\n\", clf_MLP.train_confusion_matrix)"
      ],
      "execution_count": 29,
      "outputs": [
        {
          "output_type": "stream",
          "text": [
            "__init__ ran in: 0.0 sec\n",
            "Iteration 1, loss = 0.36977276\n",
            "Iteration 2, loss = 0.24011666\n",
            "Iteration 3, loss = 0.19881995\n",
            "Iteration 4, loss = 0.15541971\n",
            "Iteration 5, loss = 0.12015724\n",
            "Iteration 6, loss = 0.08961149\n",
            "Iteration 7, loss = 0.05399652\n",
            "Iteration 8, loss = 0.03014972\n",
            "Iteration 9, loss = 0.01486434\n",
            "Iteration 10, loss = 0.00814872\n",
            "fit ran in: 54.27 sec\n",
            "Train accuracy - baseline:  100.0\n",
            "Confusion Matrix \n",
            " [[12500     0]\n",
            " [    0 12500]]\n"
          ],
          "name": "stdout"
        }
      ]
    },
    {
      "cell_type": "code",
      "metadata": {
        "id": "58U-YdJ9nK3L",
        "colab_type": "code",
        "colab": {}
      },
      "source": [
        "# Add to list results\n",
        "method_name = \"Train - MultiLayer Perceptron\"\n",
        "results.append((method_name, train_acc_MLP))"
      ],
      "execution_count": 0,
      "outputs": []
    },
    {
      "cell_type": "code",
      "metadata": {
        "id": "L2K1zrAq99hP",
        "colab_type": "code",
        "colab": {
          "base_uri": "https://localhost:8080/",
          "height": 289
        },
        "outputId": "1f1fea13-b4f9-4138-9fdd-1dea3be02936"
      },
      "source": [
        "# Test accuracy\n",
        "test_acc_MLP = clf_MLP.predict()\n",
        "print(\"Test accuracy - baseline: \", test_acc_MLP)\n",
        "print(\"Confusion Matrix \\n\", clf_MLP.test_confusion_matrix)"
      ],
      "execution_count": 30,
      "outputs": [
        {
          "output_type": "stream",
          "text": [
            "Classification report for classifier Logistic Regression:\n",
            "               precision    recall  f1-score   support\n",
            "\n",
            "         0.0       0.87      0.88      0.87     12500\n",
            "         1.0       0.88      0.87      0.87     12500\n",
            "\n",
            "    accuracy                           0.87     25000\n",
            "   macro avg       0.87      0.87      0.87     25000\n",
            "weighted avg       0.87      0.87      0.87     25000\n",
            "\n",
            "\n",
            "predict ran in: 0.95 sec\n",
            "Test accuracy - baseline:  87.2\n",
            "Confusion Matrix \n",
            " [[10974  1526]\n",
            " [ 1674 10826]]\n"
          ],
          "name": "stdout"
        }
      ]
    },
    {
      "cell_type": "code",
      "metadata": {
        "id": "w_Nx6-t8nIFg",
        "colab_type": "code",
        "colab": {}
      },
      "source": [
        "# Add to list results\n",
        "method_name = \"Test MultiLayer Perceptron\"\n",
        "results.append((method_name, test_acc_MLP))"
      ],
      "execution_count": 0,
      "outputs": []
    },
    {
      "cell_type": "code",
      "metadata": {
        "id": "6xLU33k899bu",
        "colab_type": "code",
        "colab": {
          "base_uri": "https://localhost:8080/",
          "height": 85
        },
        "outputId": "fe0655c8-9864-4c85-f0fe-636387ff7ccb"
      },
      "source": [
        "results"
      ],
      "execution_count": 62,
      "outputs": [
        {
          "output_type": "execute_result",
          "data": {
            "text/plain": [
              "[('Train - Logistic Regression', 68.31),\n",
              " ('Test Logistic Regression', 68.44),\n",
              " ('Train - MultiLayer Perceptron', 100.0),\n",
              " ('Test MultiLayer Perceptron', 87.2)]"
            ]
          },
          "metadata": {
            "tags": []
          },
          "execution_count": 62
        }
      ]
    },
    {
      "cell_type": "markdown",
      "metadata": {
        "id": "7QQGqiiPpUrV",
        "colab_type": "text"
      },
      "source": [
        "## Unittest"
      ]
    },
    {
      "cell_type": "code",
      "metadata": {
        "id": "cexApvh699Ya",
        "colab_type": "code",
        "colab": {}
      },
      "source": [
        "import unittest\n",
        "\n",
        "class TestInput(unittest.TestCase):\n",
        "  \n",
        "    @classmethod\n",
        "    def setUpClass(cls):\n",
        "        # print('setupClass')   \n",
        "        pass\n",
        "\n",
        "    @classmethod\n",
        "    def tearDownClass(cls): \n",
        "        # print('teardownClass')\n",
        "        pass\n",
        "\n",
        "    def setUp(self):\n",
        "        print('setUp') \n",
        "               \n",
        "        # split train, test\n",
        "        (train_data, train_labels), (test_data, test_labels) = imdb.load_data(num_words=10000) # 10k top most frequent words\n",
        "        # vectorize trainset, testset\n",
        "        x_train = vectorize_sequences(train_data)\n",
        "        x_test = vectorize_sequences(test_data)\n",
        "        # vectorize the labels\n",
        "        y_train = np.asarray(train_labels).astype('float32')\n",
        "        y_test = np.asarray(test_labels).astype('float32')\n",
        "        self.X_train, self.y_train, self.X_test, self.y_test = x_train, y_train, x_test, y_test\n",
        "        \n",
        "        self.train_accuracy = 68.31\n",
        "        self.train_confusion_matrix = np.matrix([[7146,    5354],\n",
        "                                                 [2568,   9932]])\n",
        "        \n",
        "        self.test_accuracy = 68.44\n",
        "        self.test_confusion_matrix = np.matrix([[7111,    5389],\n",
        "                                                 [2500,   10000]])\n",
        "\n",
        "        \n",
        "    def tearDown(self):\n",
        "        # print('tearDown')\n",
        "        pass\n",
        "        \n",
        "        \n",
        "    def test_fit(self):     \n",
        "        np.random.seed(42)\n",
        "        self.ta = algo_logistic_regression(self.X_train, self.y_train, self.X_test, self.y_test)\n",
        "        self.assertEqual(self.ta.fit(), self.train_accuracy) \n",
        "        self.assertEqual(self.ta.train_confusion_matrix.tolist(), self.train_confusion_matrix.tolist())  \n",
        "  \n",
        "\n",
        "    def test_predict(self):\n",
        "        np.random.seed(42)\n",
        "        self.ta = algo_logistic_regression(self.X_train, self.y_train, self.X_test, self.y_test)\n",
        "        self.ta.fit()\n",
        "        self.assertEqual(self.ta.predict(), self.test_accuracy)\n",
        "        self.assertEqual(self.ta.train_confusion_matrix.tolist(), self.train_confusion_matrix.tolist()) \n"
      ],
      "execution_count": 0,
      "outputs": []
    },
    {
      "cell_type": "code",
      "metadata": {
        "id": "f02PbM-o99UB",
        "colab_type": "code",
        "colab": {
          "base_uri": "https://localhost:8080/",
          "height": 425
        },
        "outputId": "c2cdbcd0-106a-4dac-a2b4-95c21b2e7ba6"
      },
      "source": [
        "#run tests \n",
        "unittest.main(argv=['first-arg-is-ignored'], exit=False)"
      ],
      "execution_count": 96,
      "outputs": [
        {
          "output_type": "stream",
          "text": [
            "setUp\n",
            "__init__ ran in: 0.0 sec\n"
          ],
          "name": "stdout"
        },
        {
          "output_type": "stream",
          "text": [
            "."
          ],
          "name": "stderr"
        },
        {
          "output_type": "stream",
          "text": [
            "fit ran in: 26.03 sec\n",
            "setUp\n",
            "__init__ ran in: 0.0 sec\n",
            "fit ran in: 24.12 sec\n"
          ],
          "name": "stdout"
        },
        {
          "output_type": "stream",
          "text": [
            "."
          ],
          "name": "stderr"
        },
        {
          "output_type": "stream",
          "text": [
            "Classification report for classifier Logistic Regression:\n",
            "               precision    recall  f1-score   support\n",
            "\n",
            "         0.0       0.74      0.57      0.64     12500\n",
            "         1.0       0.65      0.80      0.72     12500\n",
            "\n",
            "    accuracy                           0.68     25000\n",
            "   macro avg       0.69      0.68      0.68     25000\n",
            "weighted avg       0.69      0.68      0.68     25000\n",
            "\n",
            "\n",
            "predict ran in: 0.41 sec\n"
          ],
          "name": "stdout"
        },
        {
          "output_type": "stream",
          "text": [
            "\n",
            "----------------------------------------------------------------------\n",
            "Ran 2 tests in 65.361s\n",
            "\n",
            "OK\n"
          ],
          "name": "stderr"
        },
        {
          "output_type": "execute_result",
          "data": {
            "text/plain": [
              "<unittest.main.TestProgram at 0x7fd86f52d278>"
            ]
          },
          "metadata": {
            "tags": []
          },
          "execution_count": 96
        }
      ]
    },
    {
      "cell_type": "markdown",
      "metadata": {
        "id": "hIvdJ7ZwrZNh",
        "colab_type": "text"
      },
      "source": [
        "## 3. Building a network"
      ]
    },
    {
      "cell_type": "code",
      "metadata": {
        "id": "S6YWNm40sWid",
        "colab_type": "code",
        "colab": {}
      },
      "source": [
        "from keras import models\n",
        "from keras import layers, optimizers"
      ],
      "execution_count": 0,
      "outputs": []
    },
    {
      "cell_type": "code",
      "metadata": {
        "id": "U_vj8_eSrfMk",
        "colab_type": "code",
        "outputId": "cc6c5246-c2c3-47d1-b5df-b2efe0f4a403",
        "colab": {
          "base_uri": "https://localhost:8080/",
          "height": 139
        }
      },
      "source": [
        "# Three layers\n",
        "input_tensor = layers.Input(shape=(10000,))\n",
        "x = layers.Dense(32, activation='tanh')(input_tensor)  \n",
        "x = layers.Dense(32, activation='tanh')(x)             \n",
        "\n",
        "output_tensor = layers.Dense(1, activation='sigmoid')(x)"
      ],
      "execution_count": 32,
      "outputs": [
        {
          "output_type": "stream",
          "text": [
            "WARNING:tensorflow:From /usr/local/lib/python3.6/dist-packages/keras/backend/tensorflow_backend.py:66: The name tf.get_default_graph is deprecated. Please use tf.compat.v1.get_default_graph instead.\n",
            "\n",
            "WARNING:tensorflow:From /usr/local/lib/python3.6/dist-packages/keras/backend/tensorflow_backend.py:541: The name tf.placeholder is deprecated. Please use tf.compat.v1.placeholder instead.\n",
            "\n",
            "WARNING:tensorflow:From /usr/local/lib/python3.6/dist-packages/keras/backend/tensorflow_backend.py:4432: The name tf.random_uniform is deprecated. Please use tf.random.uniform instead.\n",
            "\n"
          ],
          "name": "stdout"
        }
      ]
    },
    {
      "cell_type": "code",
      "metadata": {
        "id": "kVsjxZfErf5_",
        "colab_type": "code",
        "colab": {}
      },
      "source": [
        "model = models.Model(inputs=input_tensor, outputs=output_tensor)"
      ],
      "execution_count": 0,
      "outputs": []
    },
    {
      "cell_type": "code",
      "metadata": {
        "id": "aFke-4azrf_H",
        "colab_type": "code",
        "outputId": "013e820c-436c-4c40-b5b0-b78bc39a7955",
        "colab": {
          "base_uri": "https://localhost:8080/",
          "height": 289
        }
      },
      "source": [
        "model.summary()   # summary of the NN architecture"
      ],
      "execution_count": 34,
      "outputs": [
        {
          "output_type": "stream",
          "text": [
            "Model: \"model_1\"\n",
            "_________________________________________________________________\n",
            "Layer (type)                 Output Shape              Param #   \n",
            "=================================================================\n",
            "input_1 (InputLayer)         (None, 10000)             0         \n",
            "_________________________________________________________________\n",
            "dense_1 (Dense)              (None, 32)                320032    \n",
            "_________________________________________________________________\n",
            "dense_2 (Dense)              (None, 32)                1056      \n",
            "_________________________________________________________________\n",
            "dense_3 (Dense)              (None, 1)                 33        \n",
            "=================================================================\n",
            "Total params: 321,121\n",
            "Trainable params: 321,121\n",
            "Non-trainable params: 0\n",
            "_________________________________________________________________\n"
          ],
          "name": "stdout"
        }
      ]
    },
    {
      "cell_type": "code",
      "metadata": {
        "id": "rEBIqApSrgE5",
        "colab_type": "code",
        "outputId": "eea9d13c-2bc2-4927-c6aa-298a3f2496cd",
        "colab": {
          "base_uri": "https://localhost:8080/",
          "height": 156
        }
      },
      "source": [
        "# compile\n",
        "model.compile(optimizer='rmsprop', loss='binary_crossentropy', metrics=['acc'])\n",
        "\n",
        "# model.compile(optimizer='rmsprop', loss='mse', metrics=['acc'])"
      ],
      "execution_count": 35,
      "outputs": [
        {
          "output_type": "stream",
          "text": [
            "WARNING:tensorflow:From /usr/local/lib/python3.6/dist-packages/keras/optimizers.py:793: The name tf.train.Optimizer is deprecated. Please use tf.compat.v1.train.Optimizer instead.\n",
            "\n",
            "WARNING:tensorflow:From /usr/local/lib/python3.6/dist-packages/keras/backend/tensorflow_backend.py:3657: The name tf.log is deprecated. Please use tf.math.log instead.\n",
            "\n",
            "WARNING:tensorflow:From /usr/local/lib/python3.6/dist-packages/tensorflow_core/python/ops/nn_impl.py:183: where (from tensorflow.python.ops.array_ops) is deprecated and will be removed in a future version.\n",
            "Instructions for updating:\n",
            "Use tf.where in 2.0, which has the same broadcast rule as np.where\n"
          ],
          "name": "stdout"
        }
      ]
    },
    {
      "cell_type": "code",
      "metadata": {
        "id": "m9zxcn04rgNB",
        "colab_type": "code",
        "outputId": "a1d1f8c7-ae0f-4f6c-f03a-ffed8e6ace5c",
        "colab": {
          "base_uri": "https://localhost:8080/",
          "height": 357
        }
      },
      "source": [
        "# train a model\n",
        "history = model.fit(x_train, y_train, batch_size=128, epochs=10)"
      ],
      "execution_count": 73,
      "outputs": [
        {
          "output_type": "stream",
          "text": [
            "Epoch 1/10\n",
            "25000/25000 [==============================] - 6s 228us/step - loss: 0.1239 - acc: 0.9716\n",
            "Epoch 2/10\n",
            "25000/25000 [==============================] - 3s 118us/step - loss: 0.0598 - acc: 0.9815\n",
            "Epoch 3/10\n",
            "25000/25000 [==============================] - 3s 111us/step - loss: 0.0406 - acc: 0.9874\n",
            "Epoch 4/10\n",
            "25000/25000 [==============================] - 3s 107us/step - loss: 0.0293 - acc: 0.9909\n",
            "Epoch 5/10\n",
            "25000/25000 [==============================] - 3s 106us/step - loss: 0.0222 - acc: 0.9930\n",
            "Epoch 6/10\n",
            "25000/25000 [==============================] - 3s 107us/step - loss: 0.0168 - acc: 0.9949\n",
            "Epoch 7/10\n",
            "25000/25000 [==============================] - 3s 109us/step - loss: 0.0131 - acc: 0.9962\n",
            "Epoch 8/10\n",
            "25000/25000 [==============================] - 3s 110us/step - loss: 0.0096 - acc: 0.9974\n",
            "Epoch 9/10\n",
            "25000/25000 [==============================] - 3s 109us/step - loss: 0.0073 - acc: 0.9978\n",
            "Epoch 10/10\n",
            "25000/25000 [==============================] - 3s 107us/step - loss: 0.0049 - acc: 0.9987\n"
          ],
          "name": "stdout"
        }
      ]
    },
    {
      "cell_type": "code",
      "metadata": {
        "id": "14cxI3tDvwqJ",
        "colab_type": "code",
        "colab": {}
      },
      "source": [
        "# With LSTM\n",
        "from keras import preprocessing\n",
        "from keras.datasets import imdb\n",
        "from keras.models import Sequential\n",
        "from keras.layers import Flatten, Dense\n",
        "from keras.layers import Embedding\n",
        "from keras.layers import LSTM\n",
        "\n",
        "# hyper-parameters\n",
        "max_features = 10000 # number of words to consider as features, 10k most common words\n",
        "maxlen = 20 # cuts off the text after 20 words (among the max_features most common words)\n",
        "\n",
        "# Raw data\n",
        "(x_train, y_train), (x_test, y_test) = imdb.load_data(num_words=max_features)\n",
        "\n",
        "# Preprocessing\n",
        "x_train = preprocessing.sequence.pad_sequences(x_train, maxlen=maxlen) # pad sequences to the same length\n",
        "x_test = preprocessing.sequence.pad_sequences(x_test, maxlen=maxlen) # pad sequences to the same length"
      ],
      "execution_count": 0,
      "outputs": []
    },
    {
      "cell_type": "code",
      "metadata": {
        "id": "Uv8wt6gowuQF",
        "colab_type": "code",
        "colab": {
          "base_uri": "https://localhost:8080/",
          "height": 717
        },
        "outputId": "d580526d-4ae1-4964-d432-6d1a32ef3ccd"
      },
      "source": [
        "# Building a network\n",
        "model = Sequential()\n",
        "model.add(Embedding(input_dim=max_features, output_dim=8, input_length=maxlen))\n",
        "model.add(LSTM(32, activation='relu', return_sequences=True))\n",
        "model.add(LSTM(32))\n",
        "model.add(Dense(1, activation='sigmoid')) # output layer\n",
        "\n",
        "# compile\n",
        "model.compile(optimizer='rmsprop', loss='binary_crossentropy', metrics=['acc'])\n",
        "\n",
        "# summary\n",
        "model.summary()\n",
        "\n",
        "# Training\n",
        "model.fit(x_train, y_train, epochs=10, batch_size=32, validation_split=0.1) # 10% of x_train\n",
        "\n",
        "# Evaluate\n",
        "score, acc = model.evaluate(x_test, y_test)\n",
        "print('test score = ', score)\n",
        "print('test accuracy = ', acc)"
      ],
      "execution_count": 101,
      "outputs": [
        {
          "output_type": "stream",
          "text": [
            "Model: \"sequential_4\"\n",
            "_________________________________________________________________\n",
            "Layer (type)                 Output Shape              Param #   \n",
            "=================================================================\n",
            "embedding_3 (Embedding)      (None, 20, 8)             80000     \n",
            "_________________________________________________________________\n",
            "lstm_3 (LSTM)                (None, 20, 32)            5248      \n",
            "_________________________________________________________________\n",
            "lstm_4 (LSTM)                (None, 32)                8320      \n",
            "_________________________________________________________________\n",
            "dense_6 (Dense)              (None, 1)                 33        \n",
            "=================================================================\n",
            "Total params: 93,601\n",
            "Trainable params: 93,601\n",
            "Non-trainable params: 0\n",
            "_________________________________________________________________\n",
            "Train on 22500 samples, validate on 2500 samples\n",
            "Epoch 1/10\n",
            "22500/22500 [==============================] - 23s 1ms/step - loss: 0.5784 - acc: 0.6852 - val_loss: 0.6011 - val_acc: 0.6888\n",
            "Epoch 2/10\n",
            "22500/22500 [==============================] - 22s 960us/step - loss: 0.4599 - acc: 0.7802 - val_loss: 0.4898 - val_acc: 0.7616\n",
            "Epoch 3/10\n",
            "22500/22500 [==============================] - 22s 996us/step - loss: 0.4288 - acc: 0.8012 - val_loss: 0.5152 - val_acc: 0.7584\n",
            "Epoch 4/10\n",
            "22500/22500 [==============================] - 21s 948us/step - loss: 0.4128 - acc: 0.8124 - val_loss: 0.4911 - val_acc: 0.7644\n",
            "Epoch 5/10\n",
            "22500/22500 [==============================] - 21s 953us/step - loss: 0.4009 - acc: 0.8183 - val_loss: 0.5160 - val_acc: 0.7612\n",
            "Epoch 6/10\n",
            "22500/22500 [==============================] - 21s 945us/step - loss: 0.3906 - acc: 0.8257 - val_loss: 0.4850 - val_acc: 0.7680\n",
            "Epoch 7/10\n",
            "22500/22500 [==============================] - 21s 941us/step - loss: 0.3820 - acc: 0.8272 - val_loss: 0.4899 - val_acc: 0.7772\n",
            "Epoch 8/10\n",
            "22500/22500 [==============================] - 22s 967us/step - loss: 0.3755 - acc: 0.8332 - val_loss: 0.4706 - val_acc: 0.7700\n",
            "Epoch 9/10\n",
            "22500/22500 [==============================] - 21s 937us/step - loss: 0.3666 - acc: 0.8368 - val_loss: 0.5176 - val_acc: 0.7744\n",
            "Epoch 10/10\n",
            "22500/22500 [==============================] - 21s 953us/step - loss: 0.3580 - acc: 0.8423 - val_loss: 0.4949 - val_acc: 0.7688\n",
            "25000/25000 [==============================] - 4s 176us/step\n",
            "test score =  0.499865355758667\n",
            "test accuracy =  0.76568\n"
          ],
          "name": "stdout"
        }
      ]
    },
    {
      "cell_type": "code",
      "metadata": {
        "id": "GOhLC-UPrgS1",
        "colab_type": "code",
        "colab": {
          "base_uri": "https://localhost:8080/",
          "height": 34
        },
        "outputId": "f1c41370-5168-44c5-8f63-476f648ef160"
      },
      "source": [
        "history_dict = history.history\n",
        "history_dict.keys()"
      ],
      "execution_count": 74,
      "outputs": [
        {
          "output_type": "execute_result",
          "data": {
            "text/plain": [
              "dict_keys(['loss', 'acc'])"
            ]
          },
          "metadata": {
            "tags": []
          },
          "execution_count": 74
        }
      ]
    },
    {
      "cell_type": "code",
      "metadata": {
        "id": "_yMZnY2brgZ9",
        "colab_type": "code",
        "outputId": "70603bdd-d5e9-4747-8749-b74879c00c42",
        "colab": {
          "base_uri": "https://localhost:8080/",
          "height": 357
        }
      },
      "source": [
        "history.history"
      ],
      "execution_count": 75,
      "outputs": [
        {
          "output_type": "execute_result",
          "data": {
            "text/plain": [
              "{'acc': [0.971600000038147,\n",
              "  0.981520000038147,\n",
              "  0.9874400000190735,\n",
              "  0.99088,\n",
              "  0.99304,\n",
              "  0.99488,\n",
              "  0.9962,\n",
              "  0.99744,\n",
              "  0.99784,\n",
              "  0.99872],\n",
              " 'loss': [0.1238527124261856,\n",
              "  0.05982205800533295,\n",
              "  0.04059185327649117,\n",
              "  0.02931500919409096,\n",
              "  0.02220388704650104,\n",
              "  0.016783954836502673,\n",
              "  0.01305174713626504,\n",
              "  0.009591524589210748,\n",
              "  0.007290254154801369,\n",
              "  0.004923677662909031]}"
            ]
          },
          "metadata": {
            "tags": []
          },
          "execution_count": 75
        }
      ]
    },
    {
      "cell_type": "code",
      "metadata": {
        "id": "chJlz8Bkrgdt",
        "colab_type": "code",
        "colab": {}
      },
      "source": [
        "# Draw a graphic\n",
        "import matplotlib.pyplot as plt"
      ],
      "execution_count": 0,
      "outputs": []
    },
    {
      "cell_type": "code",
      "metadata": {
        "id": "B31iz_v1rgQ5",
        "colab_type": "code",
        "colab": {}
      },
      "source": [
        "# without validation set\n",
        "loss_value = history_dict['loss']\n",
        "acc_value = history_dict['acc']"
      ],
      "execution_count": 0,
      "outputs": []
    },
    {
      "cell_type": "code",
      "metadata": {
        "id": "0P-_wlPQqJWb",
        "colab_type": "code",
        "colab": {}
      },
      "source": [
        "# Add to list results\n",
        "method_name = \"Train Recurrent Neural Network\"\n",
        "results.append((method_name, max(acc_value)*100))"
      ],
      "execution_count": 0,
      "outputs": []
    },
    {
      "cell_type": "code",
      "metadata": {
        "id": "EFNGSpuOrgI6",
        "colab_type": "code",
        "outputId": "e61bc800-21f6-49f2-83da-de41ba265649",
        "colab": {
          "base_uri": "https://localhost:8080/",
          "height": 295
        }
      },
      "source": [
        "plt.plot(epochs, loss_value,'bo', label='Training loss')    # bo: blue dot\n",
        "# plt.plot(epochs, val_loss_value,'y', label='Validation loss')    # bo: blue dot\n",
        "plt.plot(epochs, acc_value, 'b', label='Training Accuracy')          # 'b': solid blue line\n",
        "# plt.plot(epochs, val_acc_value, 'r', label='Validation Accuracy')          # 'b': solid blue line\n",
        "plt.title('Training and validation loss/accuracy')\n",
        "plt.xlabel('Epochs')\n",
        "plt.ylabel('Loss')\n",
        "\n",
        "plt.legend()\n",
        "plt.show()"
      ],
      "execution_count": 78,
      "outputs": [
        {
          "output_type": "display_data",
          "data": {
            "image/png": "[encoded data removed]",
            "text/plain": [
              "<Figure size 432x288 with 1 Axes>"
            ]
          },
          "metadata": {
            "tags": []
          }
        }
      ]
    },
    {
      "cell_type": "code",
      "metadata": {
        "id": "LzAnFapZzfLd",
        "colab_type": "code",
        "outputId": "c63c80ea-9f94-4259-e6b6-b798c7956b23",
        "colab": {
          "base_uri": "https://localhost:8080/",
          "height": 422
        }
      },
      "source": [
        "# draw model \n",
        "from keras.utils import plot_model\n",
        "plot_model(model, to_file='model.png', show_shapes=True)"
      ],
      "execution_count": 50,
      "outputs": [
        {
          "output_type": "execute_result",
          "data": {
            "image/png": "[encoded data removed]",
            "text/plain": [
              "<IPython.core.display.Image object>"
            ]
          },
          "metadata": {
            "tags": []
          },
          "execution_count": 50
        }
      ]
    },
    {
      "cell_type": "markdown",
      "metadata": {
        "id": "r920Ss7hysuJ",
        "colab_type": "text"
      },
      "source": [
        "## Evaluate the model"
      ]
    },
    {
      "cell_type": "code",
      "metadata": {
        "id": "aKqHQIWFyrz2",
        "colab_type": "code",
        "outputId": "ed9af3ac-7ce7-486e-94e9-c2ed31c6b666",
        "colab": {
          "base_uri": "https://localhost:8080/",
          "height": 34
        }
      },
      "source": [
        "resultsNN = model.evaluate(x_test, y_test)"
      ],
      "execution_count": 79,
      "outputs": [
        {
          "output_type": "stream",
          "text": [
            "25000/25000 [==============================] - 4s 160us/step\n"
          ],
          "name": "stdout"
        }
      ]
    },
    {
      "cell_type": "code",
      "metadata": {
        "id": "kjVsZvvZltEJ",
        "colab_type": "code",
        "colab": {}
      },
      "source": [
        "# Add to list results\n",
        "method_name = \"Test Recurrent Neural Network\"\n",
        "results.append((method_name, resultsNN[1]*100))"
      ],
      "execution_count": 0,
      "outputs": []
    },
    {
      "cell_type": "code",
      "metadata": {
        "id": "fpikOyaXyruj",
        "colab_type": "code",
        "outputId": "982b5a81-468b-410e-8687-40f35958d53c",
        "colab": {
          "base_uri": "https://localhost:8080/",
          "height": 136
        }
      },
      "source": [
        "# predict\n",
        "model.predict(x_test)"
      ],
      "execution_count": 83,
      "outputs": [
        {
          "output_type": "execute_result",
          "data": {
            "text/plain": [
              "array([[2.7759671e-03],\n",
              "       [9.9999857e-01],\n",
              "       [9.9999648e-01],\n",
              "       ...,\n",
              "       [5.2705407e-04],\n",
              "       [2.0641088e-04],\n",
              "       [6.5531462e-02]], dtype=float32)"
            ]
          },
          "metadata": {
            "tags": []
          },
          "execution_count": 83
        }
      ]
    },
    {
      "cell_type": "markdown",
      "metadata": {
        "id": "xn94kun-zPa6",
        "colab_type": "text"
      },
      "source": [
        "# Comparison of multiple models [baseline versus models]"
      ]
    },
    {
      "cell_type": "code",
      "metadata": {
        "id": "YUeFrL4kyrxL",
        "colab_type": "code",
        "outputId": "976e27bf-f609-4095-aa22-c20d9c406f53",
        "colab": {
          "base_uri": "https://localhost:8080/",
          "height": 119
        }
      },
      "source": [
        "results"
      ],
      "execution_count": 102,
      "outputs": [
        {
          "output_type": "execute_result",
          "data": {
            "text/plain": [
              "[('Train - Logistic Regression', 68.31),\n",
              " ('Test Logistic Regression', 68.44),\n",
              " ('Train - MultiLayer Perceptron', 100.0),\n",
              " ('Test MultiLayer Perceptron', 87.2),\n",
              " ('Train Recurrent Neural Network', 99.872),\n",
              " ('Test Recurrent Neural Network', 83.76)]"
            ]
          },
          "metadata": {
            "tags": []
          },
          "execution_count": 102
        }
      ]
    },
    {
      "cell_type": "code",
      "metadata": {
        "id": "f4gURks0yrr8",
        "colab_type": "code",
        "colab": {
          "base_uri": "https://localhost:8080/",
          "height": 235
        },
        "outputId": "35aa8f9a-55a1-404a-bff1-bda07d54868a"
      },
      "source": [
        "df = pd.DataFrame(columns=COL_NAMES, data=results)\n",
        "df"
      ],
      "execution_count": 103,
      "outputs": [
        {
          "output_type": "execute_result",
          "data": {
            "text/html": [
              "<div>\n",
              "<style scoped>\n",
              "    .dataframe tbody tr th:only-of-type {\n",
              "        vertical-align: middle;\n",
              "    }\n",
              "\n",
              "    .dataframe tbody tr th {\n",
              "        vertical-align: top;\n",
              "    }\n",
              "\n",
              "    .dataframe thead th {\n",
              "        text-align: right;\n",
              "    }\n",
              "</style>\n",
              "<table border=\"1\" class=\"dataframe\">\n",
              "  <thead>\n",
              "    <tr style=\"text-align: right;\">\n",
              "      <th></th>\n",
              "      <th>Testcase</th>\n",
              "      <th>Accuracy</th>\n",
              "    </tr>\n",
              "  </thead>\n",
              "  <tbody>\n",
              "    <tr>\n",
              "      <th>0</th>\n",
              "      <td>Train - Logistic Regression</td>\n",
              "      <td>68.310</td>\n",
              "    </tr>\n",
              "    <tr>\n",
              "      <th>1</th>\n",
              "      <td>Test Logistic Regression</td>\n",
              "      <td>68.440</td>\n",
              "    </tr>\n",
              "    <tr>\n",
              "      <th>2</th>\n",
              "      <td>Train - MultiLayer Perceptron</td>\n",
              "      <td>100.000</td>\n",
              "    </tr>\n",
              "    <tr>\n",
              "      <th>3</th>\n",
              "      <td>Test MultiLayer Perceptron</td>\n",
              "      <td>87.200</td>\n",
              "    </tr>\n",
              "    <tr>\n",
              "      <th>4</th>\n",
              "      <td>Train Recurrent Neural Network</td>\n",
              "      <td>99.872</td>\n",
              "    </tr>\n",
              "    <tr>\n",
              "      <th>5</th>\n",
              "      <td>Test Recurrent Neural Network</td>\n",
              "      <td>83.760</td>\n",
              "    </tr>\n",
              "  </tbody>\n",
              "</table>\n",
              "</div>"
            ],
            "text/plain": [
              "                         Testcase  Accuracy\n",
              "0     Train - Logistic Regression    68.310\n",
              "1        Test Logistic Regression    68.440\n",
              "2   Train - MultiLayer Perceptron   100.000\n",
              "3      Test MultiLayer Perceptron    87.200\n",
              "4  Train Recurrent Neural Network    99.872\n",
              "5   Test Recurrent Neural Network    83.760"
            ]
          },
          "metadata": {
            "tags": []
          },
          "execution_count": 103
        }
      ]
    },
    {
      "cell_type": "markdown",
      "metadata": {
        "id": "Dw88IFETo17d",
        "colab_type": "text"
      },
      "source": [
        "In above result, we observe that the accuracy score of method MLP is the best one and it is higher than MLP's accuracy score about 3%.\n",
        "\n",
        "In summary, in this notebook, we performed:\n",
        "\n",
        "* How to train a baseline model versus multiple models\n",
        "\n",
        "* How to use unit tests for the API, the model and the logging\n",
        "\n",
        "* Can all of the unit tests be run with a single script and do all of the unit tests pass?\n",
        "\n",
        "* A mechanism to monitor performance\n",
        "\n",
        "* A performance comparison between multiple models\n",
        "\n",
        "* Visualizations for the EDA investigation"
      ]
    },
    {
      "cell_type": "code",
      "metadata": {
        "id": "E8pZmoPd53ud",
        "colab_type": "code",
        "colab": {}
      },
      "source": [
        ""
      ],
      "execution_count": 0,
      "outputs": []
    }
  ]
}